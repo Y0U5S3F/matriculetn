{
  "nbformat": 4,
  "nbformat_minor": 0,
  "metadata": {
    "colab": {
      "provenance": []
    },
    "kernelspec": {
      "name": "python3",
      "display_name": "Python 3"
    },
    "language_info": {
      "name": "python"
    }
  },
  "cells": [
    {
      "cell_type": "code",
      "execution_count": null,
      "metadata": {
        "colab": {
          "base_uri": "https://localhost:8080/"
        },
        "collapsed": true,
        "id": "yV4t9LetLRP8",
        "outputId": "1a29924e-74f0-4c3b-94b1-b039af591952"
      },
      "outputs": [
        {
          "output_type": "stream",
          "name": "stdout",
          "text": [
            "Requirement already satisfied: opencv-python-headless in /usr/local/lib/python3.10/dist-packages (4.10.0.84)\n",
            "Requirement already satisfied: moviepy in /usr/local/lib/python3.10/dist-packages (1.0.3)\n",
            "Requirement already satisfied: numpy>=1.21.2 in /usr/local/lib/python3.10/dist-packages (from opencv-python-headless) (1.26.4)\n",
            "Requirement already satisfied: decorator<5.0,>=4.0.2 in /usr/local/lib/python3.10/dist-packages (from moviepy) (4.4.2)\n",
            "Requirement already satisfied: tqdm<5.0,>=4.11.2 in /usr/local/lib/python3.10/dist-packages (from moviepy) (4.66.6)\n",
            "Requirement already satisfied: requests<3.0,>=2.8.1 in /usr/local/lib/python3.10/dist-packages (from moviepy) (2.32.3)\n",
            "Requirement already satisfied: proglog<=1.0.0 in /usr/local/lib/python3.10/dist-packages (from moviepy) (0.1.10)\n",
            "Requirement already satisfied: imageio<3.0,>=2.5 in /usr/local/lib/python3.10/dist-packages (from moviepy) (2.36.0)\n",
            "Requirement already satisfied: imageio-ffmpeg>=0.2.0 in /usr/local/lib/python3.10/dist-packages (from moviepy) (0.5.1)\n",
            "Requirement already satisfied: pillow>=8.3.2 in /usr/local/lib/python3.10/dist-packages (from imageio<3.0,>=2.5->moviepy) (11.0.0)\n",
            "Requirement already satisfied: setuptools in /usr/local/lib/python3.10/dist-packages (from imageio-ffmpeg>=0.2.0->moviepy) (75.1.0)\n",
            "Requirement already satisfied: charset-normalizer<4,>=2 in /usr/local/lib/python3.10/dist-packages (from requests<3.0,>=2.8.1->moviepy) (3.4.0)\n",
            "Requirement already satisfied: idna<4,>=2.5 in /usr/local/lib/python3.10/dist-packages (from requests<3.0,>=2.8.1->moviepy) (3.10)\n",
            "Requirement already satisfied: urllib3<3,>=1.21.1 in /usr/local/lib/python3.10/dist-packages (from requests<3.0,>=2.8.1->moviepy) (2.2.3)\n",
            "Requirement already satisfied: certifi>=2017.4.17 in /usr/local/lib/python3.10/dist-packages (from requests<3.0,>=2.8.1->moviepy) (2024.8.30)\n",
            "--2024-11-16 08:53:31--  https://pjreddie.com/media/files/yolov3.weights\n",
            "Resolving pjreddie.com (pjreddie.com)... 162.0.215.52\n",
            "Connecting to pjreddie.com (pjreddie.com)|162.0.215.52|:443... connected.\n",
            "HTTP request sent, awaiting response... 200 OK\n",
            "Length: 248007048 (237M) [application/octet-stream]\n",
            "Saving to: ‘yolov3.weights’\n",
            "\n",
            "yolov3.weights      100%[===================>] 236.52M  21.2MB/s    in 11s     \n",
            "\n",
            "2024-11-16 08:53:43 (21.6 MB/s) - ‘yolov3.weights’ saved [248007048/248007048]\n",
            "\n",
            "--2024-11-16 08:53:43--  https://raw.githubusercontent.com/pjreddie/darknet/master/cfg/yolov3.cfg\n",
            "Resolving raw.githubusercontent.com (raw.githubusercontent.com)... 185.199.111.133, 185.199.110.133, 185.199.108.133, ...\n",
            "Connecting to raw.githubusercontent.com (raw.githubusercontent.com)|185.199.111.133|:443... connected.\n",
            "HTTP request sent, awaiting response... 200 OK\n",
            "Length: 8342 (8.1K) [text/plain]\n",
            "Saving to: ‘yolov3.cfg’\n",
            "\n",
            "yolov3.cfg          100%[===================>]   8.15K  --.-KB/s    in 0.001s  \n",
            "\n",
            "2024-11-16 08:53:43 (12.9 MB/s) - ‘yolov3.cfg’ saved [8342/8342]\n",
            "\n",
            "--2024-11-16 08:53:43--  https://raw.githubusercontent.com/pjreddie/darknet/master/data/coco.names\n",
            "Resolving raw.githubusercontent.com (raw.githubusercontent.com)... 185.199.108.133, 185.199.109.133, 185.199.110.133, ...\n",
            "Connecting to raw.githubusercontent.com (raw.githubusercontent.com)|185.199.108.133|:443... connected.\n",
            "HTTP request sent, awaiting response... 200 OK\n",
            "Length: 625 [text/plain]\n",
            "Saving to: ‘coco.names’\n",
            "\n",
            "coco.names          100%[===================>]     625  --.-KB/s    in 0s      \n",
            "\n",
            "2024-11-16 08:53:43 (35.3 MB/s) - ‘coco.names’ saved [625/625]\n",
            "\n"
          ]
        }
      ],
      "source": [
        "# Install dependencies\n",
        "!pip install opencv-python-headless moviepy\n",
        "\n",
        "import cv2\n",
        "import os\n",
        "import json\n",
        "import numpy as np\n",
        "import matplotlib.pyplot as plt\n",
        "from google.colab.patches import cv2_imshow\n",
        "\n",
        "# Download YOLO weights and config files\n",
        "!wget https://pjreddie.com/media/files/yolov3.weights -O yolov3.weights\n",
        "!wget https://raw.githubusercontent.com/pjreddie/darknet/master/cfg/yolov3.cfg -O yolov3.cfg\n",
        "!wget https://raw.githubusercontent.com/pjreddie/darknet/master/data/coco.names -O coco.names"
      ]
    },
    {
      "cell_type": "code",
      "source": [
        "def detect_yolo(input_image_path):\n",
        "    # Load YOLO model\n",
        "    net = cv2.dnn.readNet(\"yolov3.weights\", \"yolov3.cfg\")\n",
        "    with open(\"coco.names\", \"r\") as f:\n",
        "        classes = [line.strip() for line in f.readlines()]\n",
        "    # Set up detection layers\n",
        "    layer_names = net.getLayerNames()\n",
        "    output_layers = [layer_names[i - 1] for i in net.getUnconnectedOutLayers()]\n",
        "\n",
        "    # Load your image\n",
        "    image = cv2.imread(input_image_path)\n",
        "    height, width, channels = image.shape\n",
        "    # Prepare image for YOLO\n",
        "    blob = cv2.dnn.blobFromImage(image, 0.00392, (416, 416), (0, 0, 0), True, crop=False)\n",
        "    net.setInput(blob)\n",
        "    outs = net.forward(output_layers)\n",
        "    # Extract bounding boxes and class IDs\n",
        "    class_ids = []\n",
        "    confidences = []\n",
        "    boxes = []\n",
        "    results = []\n",
        "    for out in outs:\n",
        "        for detection in out:\n",
        "            scores = detection[5:]\n",
        "            class_id = np.argmax(scores)\n",
        "            confidence = scores[class_id]\n",
        "            if confidence > 0.5:  # Confidence threshold\n",
        "                # Object detected\n",
        "                center_x = int(detection[0] * width)\n",
        "                center_y = int(detection[1] * height)\n",
        "                w = int(detection[2] * width)\n",
        "                h = int(detection[3] * height)\n",
        "\n",
        "                # Rectangle coordinates\n",
        "                x = int(center_x - w / 2)\n",
        "                y = int(center_y - h / 2)\n",
        "                boxes.append([x, y, w, h])\n",
        "                confidences.append(float(confidence))\n",
        "                class_ids.append(class_id)\n",
        "                results.append({\n",
        "                    \"class\": classes[class_id],\n",
        "                    \"confidence\": float(confidence),\n",
        "                    \"x\": x,\n",
        "                    \"y\": y,\n",
        "                    \"width\": w,\n",
        "                    \"height\": h\n",
        "                })\n",
        "    return results"
      ],
      "metadata": {
        "id": "PNCD3GsLifuM"
      },
      "execution_count": 80,
      "outputs": []
    },
    {
      "cell_type": "code",
      "source": [
        "# Step 2: Define Non-Maximum Suppression (NMS) Function\n",
        "def non_max_suppression(boxes, confidences, iou_threshold=0.4):\n",
        "    # Convert boxes to x1, y1, x2, y2 format\n",
        "    converted_boxes = np.array([[x, y, x + w, y + h] for x, y, w, h in boxes])\n",
        "    confidences = np.array(confidences)\n",
        "\n",
        "    # Perform NMS using OpenCV\n",
        "    indices = cv2.dnn.NMSBoxes(\n",
        "        bboxes=converted_boxes.tolist(),\n",
        "        scores=confidences.tolist(),\n",
        "        score_threshold=0.5,\n",
        "        nms_threshold=iou_threshold\n",
        "    )\n",
        "    return indices.flatten() if len(indices) > 0 else []"
      ],
      "metadata": {
        "id": "nOmUltTtRIEP"
      },
      "execution_count": 81,
      "outputs": []
    },
    {
      "cell_type": "code",
      "source": [
        "# Step 3: Apply NMS to Filter Boxes\n",
        "def filter_boxes(results, iou_threshold=0.4):\n",
        "    # Extract bounding box coordinates and confidence scores\n",
        "    boxes = [[item[\"x\"], item[\"y\"], item[\"width\"], item[\"height\"]] for item in results]\n",
        "    confidences = [item[\"confidence\"] for item in results]\n",
        "\n",
        "    # Perform NMS\n",
        "    nms_indices = non_max_suppression(boxes, confidences, iou_threshold)\n",
        "\n",
        "    # Filter the results\n",
        "    return [results[i] for i in nms_indices]"
      ],
      "metadata": {
        "id": "DKZEdtt-iqUz"
      },
      "execution_count": 82,
      "outputs": []
    },
    {
      "cell_type": "code",
      "source": [
        "# Step 4: Draw Borders from Filtered JSON\n",
        "def draw_boxes_from_json(input_image_path, json_data):\n",
        "    # Load the image\n",
        "    image = cv2.imread(input_image_path)\n",
        "    base_name = input_image_path.split(\"/\")[3][0:-4]\n",
        "\n",
        "    # Draw each box\n",
        "    for box in json_data:\n",
        "        x, y, w, h = box[\"x\"], box[\"y\"], box[\"width\"], box[\"height\"]\n",
        "        label = box[\"class\"]\n",
        "        confidence = box[\"confidence\"]\n",
        "        color = (0, 255, 0)  # Green for vehicles\n",
        "        cv2.rectangle(image, (x, y), (x + w, y + h), color, 2)\n",
        "        text = f\"{label} {confidence:.2f}\"\n",
        "        cv2.putText(image, text, (x, y - 10), cv2.FONT_HERSHEY_SIMPLEX, 0.5, color, 2)\n",
        "    # Save the filtered JSON data to a file\n",
        "    output_json_path = f\"/content/borders/{base_name}.json\"\n",
        "    with open(output_json_path, \"w\") as json_file:\n",
        "        json.dump(json_data, json_file, indent=4)\n",
        "    print(f\"Filtered JSON saved to {output_json_path}\")\n",
        "\n",
        "    # Save the output image\n",
        "    cv2.imwrite(f\"/content/outputs/{base_name}_bordered.jpg\", image)\n",
        "    print(f\"Result saved to /content/outputs/{base_name}_bordered.jpg\")"
      ],
      "metadata": {
        "id": "KtBHUQ-TisfA"
      },
      "execution_count": 83,
      "outputs": []
    },
    {
      "cell_type": "code",
      "source": [
        "folder_path = \"/content/originals/\"\n",
        "images = [os.path.join(folder_path, file) for file in os.listdir(folder_path) if os.path.isfile(os.path.join(folder_path, file))]\n",
        "for input_image_path in images:\n",
        "    results = detect_yolo(input_image_path)\n",
        "    # Filter bounding boxes using NMS\n",
        "    filtered_data = filter_boxes(results, iou_threshold=0.4)\n",
        "\n",
        "    # Draw and save the results on the image\n",
        "    draw_boxes_from_json(input_image_path, filtered_data)"
      ],
      "metadata": {
        "colab": {
          "base_uri": "https://localhost:8080/"
        },
        "id": "e20lFXudixH3",
        "outputId": "3b61e4a4-144c-4bb5-abd5-d52d8b8a8ca4"
      },
      "execution_count": 86,
      "outputs": [
        {
          "output_type": "stream",
          "name": "stdout",
          "text": [
            "Filtered JSON saved to /content/borders/152.json\n",
            "Result saved to /content/outputs/152_bordered.jpg\n",
            "Filtered JSON saved to /content/borders/223.json\n",
            "Result saved to /content/outputs/223_bordered.jpg\n",
            "Filtered JSON saved to /content/borders/164.json\n",
            "Result saved to /content/outputs/164_bordered.jpg\n",
            "Filtered JSON saved to /content/borders/150.json\n",
            "Result saved to /content/outputs/150_bordered.jpg\n"
          ]
        }
      ]
    },
    {
      "cell_type": "code",
      "source": [],
      "metadata": {
        "id": "De703oWqiyVG"
      },
      "execution_count": null,
      "outputs": []
    }
  ]
}