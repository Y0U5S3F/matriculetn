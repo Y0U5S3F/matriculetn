{
  "cells": [
    {
      "cell_type": "code",
      "execution_count": null,
      "metadata": {
        "colab": {
          "base_uri": "https://localhost:8080/",
          "height": 1000
        },
        "collapsed": true,
        "id": "ih1Y8h3UeC_Z",
        "outputId": "34501e4e-4e00-4818-b87b-61a7cf897a1a"
      },
      "outputs": [],
      "source": [
        "!pip install inference_sdk"
      ]
    },
    {
      "cell_type": "code",
      "execution_count": null,
      "metadata": {
        "colab": {
          "base_uri": "https://localhost:8080/"
        },
        "collapsed": true,
        "id": "nnrOLyTCgqmp",
        "outputId": "87f09ae1-a9d5-44f0-c5a9-3bf27105e4f0"
      },
      "outputs": [],
      "source": [
        "import os\n",
        "import json\n",
        "from inference_sdk import InferenceHTTPClient\n",
        "\n",
        "# Initialize the client\n",
        "CLIENT = InferenceHTTPClient(\n",
        "    api_url=\"https://detect.roboflow.com\",\n",
        "    api_key=\"L5uh8sOgmpA0sglsoQzM\"  # Replace this with your actual API key\n",
        ")\n",
        "\n",
        "# Define the model ID\n",
        "model_id = \"license-plate-recognition-rxg4e/6\"\n",
        "\n",
        "# Define the input and output directories\n",
        "input_dir = \"/content/dataset\"\n",
        "output_dir = \"/content/cords\"\n",
        "\n",
        "# Ensure the output directory exists\n",
        "os.makedirs(output_dir, exist_ok=True)\n",
        "\n",
        "# Process each PNG file in the input directory\n",
        "for filename in os.listdir(input_dir):\n",
        "    if filename.endswith(\".png\"):\n",
        "        image_path = os.path.join(input_dir, filename)\n",
        "        try:\n",
        "            # Perform inference\n",
        "            result = CLIENT.infer(image_path, model_id=model_id)\n",
        "\n",
        "            # Save the result as a JSON file\n",
        "            output_path = os.path.join(output_dir, f\"{os.path.splitext(filename)[0]}.json\")\n",
        "            with open(output_path, \"w\") as json_file:\n",
        "                json.dump(result, json_file, indent=4)\n",
        "\n",
        "            print(f\"Processed {filename} and saved results to {output_path}\")\n",
        "        except Exception as e:\n",
        "            print(f\"Error processing {filename}: {e}\")"
      ]
    },
    {
      "cell_type": "code",
      "execution_count": null,
      "metadata": {
        "colab": {
          "base_uri": "https://localhost:8080/"
        },
        "collapsed": true,
        "id": "OcnsnHR2h627",
        "outputId": "e96b298c-d986-4d76-d5cd-b22dc2751e45"
      },
      "outputs": [],
      "source": [
        "import cv2\n",
        "import json\n",
        "import os\n",
        "\n",
        "# Define directories based on your structure\n",
        "CORDS_DIR = \"./cords\"\n",
        "DATASET_DIR = \"./dataset\"\n",
        "\n",
        "def draw_bounding_boxes(json_file):\n",
        "    # Load JSON data\n",
        "    with open(json_file, 'r') as f:\n",
        "        data = json.load(f)\n",
        "\n",
        "    # Extract the base name (file name without extension) to find the image\n",
        "    base_name = os.path.splitext(os.path.basename(json_file))[0]\n",
        "    image_extensions = ['.jpg', '.png', '.jpeg']  # Common image extensions\n",
        "    image_file = None\n",
        "\n",
        "    # Search for the image in the dataset directory\n",
        "    for ext in image_extensions:\n",
        "        potential_image = os.path.join(DATASET_DIR, base_name + ext)\n",
        "        if os.path.exists(potential_image):\n",
        "            image_file = potential_image\n",
        "            break\n",
        "\n",
        "    if not image_file:\n",
        "        print(f\"Image file not found for JSON: {json_file}\")\n",
        "        return\n",
        "\n",
        "    # Read the image\n",
        "    image = cv2.imread(image_file)\n",
        "    if image is None:\n",
        "        print(f\"Unable to load image: {image_file}\")\n",
        "        return\n",
        "\n",
        "    # Draw bounding boxes from predictions\n",
        "    predictions = data.get(\"predictions\", [])\n",
        "    for pred in predictions:\n",
        "        x, y, width, height = pred[\"x\"], pred[\"y\"], pred[\"width\"], pred[\"height\"]\n",
        "        confidence = pred[\"confidence\"]\n",
        "\n",
        "        # Convert center coordinates to top-left corner coordinates\n",
        "        x1 = int(x - width / 2)\n",
        "        y1 = int(y - height / 2)\n",
        "        x2 = int(x + width / 2)\n",
        "        y2 = int(y + height / 2)\n",
        "\n",
        "        # Draw the rectangle and add a label\n",
        "        label = f\"{pred['class']} ({confidence:.2f})\"\n",
        "        color = (0, 255, 0)  # Green for the bounding box\n",
        "        cv2.rectangle(image, (x1, y1), (x2, y2), color, 2)\n",
        "        cv2.putText(image, label, (x1, y1 - 10), cv2.FONT_HERSHEY_SIMPLEX, 0.5, color, 1)\n",
        "\n",
        "    # Save the image with annotations in the dataset directory\n",
        "    output_file = os.path.join(DATASET_DIR, base_name + \"_annotated.jpg\")\n",
        "    cv2.imwrite(output_file, image)\n",
        "    print(f\"Annotated image saved as: {output_file}\")\n",
        "\n",
        "# Process all JSON files in the cords directory\n",
        "def process_all_jsons():\n",
        "    for file in os.listdir(CORDS_DIR):\n",
        "        if file.endswith(\".json\"):\n",
        "            json_path = os.path.join(CORDS_DIR, file)\n",
        "            draw_bounding_boxes(json_path)\n",
        "\n",
        "# Execute the script\n",
        "process_all_jsons()"
      ]
    }
  ],
  "metadata": {
    "colab": {
      "provenance": []
    },
    "kernelspec": {
      "display_name": "Python 3",
      "name": "python3"
    },
    "language_info": {
      "name": "python"
    }
  },
  "nbformat": 4,
  "nbformat_minor": 0
}
